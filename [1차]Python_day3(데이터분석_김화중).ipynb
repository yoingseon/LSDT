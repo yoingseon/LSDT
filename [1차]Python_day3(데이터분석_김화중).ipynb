{
  "nbformat": 4,
  "nbformat_minor": 0,
  "metadata": {
    "colab": {
      "name": "[1차]Python day3(데이터분석_김화중).ipynb",
      "version": "0.3.2",
      "provenance": [],
      "collapsed_sections": [],
      "include_colab_link": true
    },
    "kernelspec": {
      "name": "python3",
      "display_name": "Python 3"
    }
  },
  "cells": [
    {
      "cell_type": "markdown",
      "metadata": {
        "id": "view-in-github",
        "colab_type": "text"
      },
      "source": [
        "<a href=\"https://colab.research.google.com/github/yoingseon/LSDT/blob/master/%5B1%EC%B0%A8%5DPython_day3(%EB%8D%B0%EC%9D%B4%ED%84%B0%EB%B6%84%EC%84%9D_%EA%B9%80%ED%99%94%EC%A4%91).ipynb\" target=\"_parent\"><img src=\"https://colab.research.google.com/assets/colab-badge.svg\" alt=\"Open In Colab\"/></a>"
      ]
    },
    {
      "cell_type": "code",
      "metadata": {
        "id": "5LR4zMX6MNmK",
        "colab_type": "code",
        "colab": {}
      },
      "source": [
        "print(\"hello world\")"
      ],
      "execution_count": 0,
      "outputs": []
    },
    {
      "cell_type": "code",
      "metadata": {
        "id": "UK_n9kBERWEO",
        "colab_type": "code",
        "colab": {}
      },
      "source": [
        "import pandas as pd\n",
        "import numpy as np\n",
        "import matplotlib.pyplot as plt"
      ],
      "execution_count": 0,
      "outputs": []
    },
    {
      "cell_type": "code",
      "metadata": {
        "id": "VPJIXJg8RWQl",
        "colab_type": "code",
        "colab": {}
      },
      "source": [
        "x = range(10) #0~9까지 / Range는 Type이라 0~9까지의 숫자를 볼 수는 없다.\n",
        "print(x)\n",
        "type(x)"
      ],
      "execution_count": 0,
      "outputs": []
    },
    {
      "cell_type": "code",
      "metadata": {
        "id": "xmLLaI-TMQcs",
        "colab_type": "code",
        "colab": {}
      },
      "source": [
        "for i in x:\n",
        "  print(i*i)"
      ],
      "execution_count": 0,
      "outputs": []
    },
    {
      "cell_type": "code",
      "metadata": {
        "id": "xnFoZ52QS6bG",
        "colab_type": "code",
        "colab": {}
      },
      "source": [
        "for i in range(1,20,2):\n",
        "  print(i*i)"
      ],
      "execution_count": 0,
      "outputs": []
    },
    {
      "cell_type": "code",
      "metadata": {
        "id": "yaRgqISKTLlf",
        "colab_type": "code",
        "colab": {}
      },
      "source": [
        "y = np.arange(24)\n",
        "z = y.reshape(-1, 2, 3) # -1은 자동으로 뒤의 컬럼 수에 맞게 array shape을 변경"
      ],
      "execution_count": 0,
      "outputs": []
    },
    {
      "cell_type": "code",
      "metadata": {
        "id": "WXIxC3cBTLoT",
        "colab_type": "code",
        "colab": {}
      },
      "source": [
        "z"
      ],
      "execution_count": 0,
      "outputs": []
    },
    {
      "cell_type": "code",
      "metadata": {
        "id": "drqv7VA3TLrU",
        "colab_type": "code",
        "colab": {
          "base_uri": "https://localhost:8080/",
          "height": 36
        },
        "outputId": "eece579f-17a8-437e-f18c-2f87fadf7fe6"
      },
      "source": [
        "!pwd"
      ],
      "execution_count": 33,
      "outputs": [
        {
          "output_type": "stream",
          "text": [
            "/content\n"
          ],
          "name": "stdout"
        }
      ]
    },
    {
      "cell_type": "code",
      "metadata": {
        "id": "DDbj6ljATLzV",
        "colab_type": "code",
        "colab": {}
      },
      "source": [
        ""
      ],
      "execution_count": 0,
      "outputs": []
    }
  ]
}